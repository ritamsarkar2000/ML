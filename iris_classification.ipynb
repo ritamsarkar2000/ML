{
  "nbformat": 4,
  "nbformat_minor": 0,
  "metadata": {
    "colab": {
      "name": "iris_classification.ipynb",
      "provenance": [],
      "authorship_tag": "ABX9TyMBztlOQP4MmFzUWcUwHVv4",
      "include_colab_link": true
    },
    "kernelspec": {
      "name": "python3",
      "display_name": "Python 3"
    }
  },
  "cells": [
    {
      "cell_type": "markdown",
      "metadata": {
        "id": "view-in-github",
        "colab_type": "text"
      },
      "source": [
        "<a href=\"https://colab.research.google.com/github/ritamsarkar2000/ML/blob/master/iris_classification.ipynb\" target=\"_parent\"><img src=\"https://colab.research.google.com/assets/colab-badge.svg\" alt=\"Open In Colab\"/></a>"
      ]
    },
    {
      "cell_type": "code",
      "metadata": {
        "id": "grXP616AQq2I",
        "colab_type": "code",
        "colab": {}
      },
      "source": [
        " import tensorflow as tf\n",
        " import pandas as pd"
      ],
      "execution_count": 1,
      "outputs": []
    },
    {
      "cell_type": "code",
      "metadata": {
        "id": "mLvlviBNWkGN",
        "colab_type": "code",
        "colab": {}
      },
      "source": [
        "train_path = tf.keras.utils.get_file(\"iris_training.csv\",\n",
        "                                     \"https://storage.googleapis.com/download.tensorflow.org/data/iris_training.csv\")  #loading dayta for training\n",
        "test_path = tf.keras.utils.get_file(\"iris_test.csv\", \n",
        "                                    \"https://storage.googleapis.com/download.tensorflow.org/data/iris_test.csv\")  #loading data for testing\n",
        "\n",
        "\n",
        "column_names = ['SepalLength', 'SepalWidth', 'PetalLength', 'PetalWidth', 'Species']\n",
        "species = ['Setosa', 'Versicolor', 'Virginica']"
      ],
      "execution_count": 2,
      "outputs": []
    },
    {
      "cell_type": "code",
      "metadata": {
        "id": "8bI5Oe3VZnxW",
        "colab_type": "code",
        "colab": {
          "base_uri": "https://localhost:8080/",
          "height": 235
        },
        "outputId": "3b031738-2b26-4bdf-a9eb-f5eeaa1b8b48"
      },
      "source": [
        "train = pd.read_csv( train_path, names=column_names, header=0 )\n",
        "test = pd.read_csv( test_path, names=column_names, header=0 )\n",
        "\n",
        "print(train.head())\n",
        "print('--x--')\n",
        "print(test.head())"
      ],
      "execution_count": 3,
      "outputs": [
        {
          "output_type": "stream",
          "text": [
            "   SepalLength  SepalWidth  PetalLength  PetalWidth  Species\n",
            "0          6.4         2.8          5.6         2.2        2\n",
            "1          5.0         2.3          3.3         1.0        1\n",
            "2          4.9         2.5          4.5         1.7        2\n",
            "3          4.9         3.1          1.5         0.1        0\n",
            "4          5.7         3.8          1.7         0.3        0\n",
            "--x--\n",
            "   SepalLength  SepalWidth  PetalLength  PetalWidth  Species\n",
            "0          5.9         3.0          4.2         1.5        1\n",
            "1          6.9         3.1          5.4         2.1        2\n",
            "2          5.1         3.3          1.7         0.5        0\n",
            "3          6.0         3.4          4.5         1.6        1\n",
            "4          5.5         2.5          4.0         1.3        1\n"
          ],
          "name": "stdout"
        }
      ]
    },
    {
      "cell_type": "code",
      "metadata": {
        "id": "keBgfDSFampd",
        "colab_type": "code",
        "colab": {
          "base_uri": "https://localhost:8080/",
          "height": 470
        },
        "outputId": "648f66f5-cf3b-4f60-e25e-5865ae167ea4"
      },
      "source": [
        "train_label = train.pop('Species') #to creat a separate set for training labels\n",
        "test_label = test.pop('Species')  # to creat a separate set for testing labels\n",
        "\n",
        "print(train.head())\n",
        "print('-=-=-=-=-=-=-=-=-=')\n",
        "print(train_label.head())\n",
        "print('------x------')\n",
        "print(test.head())\n",
        "print('-=-=-=-=-=-=-=-=-=')\n",
        "print(test_label.head())"
      ],
      "execution_count": 4,
      "outputs": [
        {
          "output_type": "stream",
          "text": [
            "   SepalLength  SepalWidth  PetalLength  PetalWidth\n",
            "0          6.4         2.8          5.6         2.2\n",
            "1          5.0         2.3          3.3         1.0\n",
            "2          4.9         2.5          4.5         1.7\n",
            "3          4.9         3.1          1.5         0.1\n",
            "4          5.7         3.8          1.7         0.3\n",
            "-=-=-=-=-=-=-=-=-=\n",
            "0    2\n",
            "1    1\n",
            "2    2\n",
            "3    0\n",
            "4    0\n",
            "Name: Species, dtype: int64\n",
            "------x------\n",
            "   SepalLength  SepalWidth  PetalLength  PetalWidth\n",
            "0          5.9         3.0          4.2         1.5\n",
            "1          6.9         3.1          5.4         2.1\n",
            "2          5.1         3.3          1.7         0.5\n",
            "3          6.0         3.4          4.5         1.6\n",
            "4          5.5         2.5          4.0         1.3\n",
            "-=-=-=-=-=-=-=-=-=\n",
            "0    1\n",
            "1    2\n",
            "2    0\n",
            "3    1\n",
            "4    1\n",
            "Name: Species, dtype: int64\n"
          ],
          "name": "stdout"
        }
      ]
    },
    {
      "cell_type": "code",
      "metadata": {
        "id": "reXvrp2zdZ0U",
        "colab_type": "code",
        "colab": {}
      },
      "source": [
        "def in_fn(features, labels, training= True, batch_size= 256):\n",
        "\n",
        "   # defining input function\n",
        "\n",
        "  dataset = tf.data.Dataset.from_tensor_slices((dict(features), labels))\n",
        "\n",
        "  if training:\n",
        "    dataset = dataset.shuffle(1000).repeat()\n",
        "\n",
        "  return dataset.batch(batch_size)\n",
        "\n",
        "\n",
        "#defining features columns\n",
        "my_features_columns=[]\n",
        "for key in train.keys():\n",
        "  my_features_columns.append(tf.feature_column.numeric_column(key = key))"
      ],
      "execution_count": 5,
      "outputs": []
    },
    {
      "cell_type": "code",
      "metadata": {
        "id": "juIQhey1hOKy",
        "colab_type": "code",
        "colab": {
          "base_uri": "https://localhost:8080/",
          "height": 188
        },
        "outputId": "f1b1e69b-f544-40ff-c7f2-b6c836ee7a2c"
      },
      "source": [
        "#creating the classifier model\n",
        "\n",
        "classifier = tf.estimator.DNNClassifier(feature_columns=my_features_columns,\n",
        "                                        hidden_units = [30, 10],\n",
        "                                        n_classes = 3)"
      ],
      "execution_count": 6,
      "outputs": [
        {
          "output_type": "stream",
          "text": [
            "INFO:tensorflow:Using default config.\n",
            "WARNING:tensorflow:Using temporary folder as model directory: /tmp/tmp0osfpa9j\n",
            "INFO:tensorflow:Using config: {'_model_dir': '/tmp/tmp0osfpa9j', '_tf_random_seed': None, '_save_summary_steps': 100, '_save_checkpoints_steps': None, '_save_checkpoints_secs': 600, '_session_config': allow_soft_placement: true\n",
            "graph_options {\n",
            "  rewrite_options {\n",
            "    meta_optimizer_iterations: ONE\n",
            "  }\n",
            "}\n",
            ", '_keep_checkpoint_max': 5, '_keep_checkpoint_every_n_hours': 10000, '_log_step_count_steps': 100, '_train_distribute': None, '_device_fn': None, '_protocol': None, '_eval_distribute': None, '_experimental_distribute': None, '_experimental_max_worker_delay_secs': None, '_session_creation_timeout_secs': 7200, '_service': None, '_cluster_spec': ClusterSpec({}), '_task_type': 'worker', '_task_id': 0, '_global_id_in_cluster': 0, '_master': '', '_evaluation_master': '', '_is_chief': True, '_num_ps_replicas': 0, '_num_worker_replicas': 1}\n"
          ],
          "name": "stdout"
        }
      ]
    },
    {
      "cell_type": "code",
      "metadata": {
        "id": "GAPrs3aoia8g",
        "colab_type": "code",
        "colab": {
          "base_uri": "https://localhost:8080/",
          "height": 1000
        },
        "outputId": "313f0021-9d72-4fc7-b1f4-fe00a1f03a59"
      },
      "source": [
        "#training the model\n",
        "\n",
        "classifier.train(input_fn= lambda : in_fn(train, train_label, training= True),\n",
        "                 steps=5000)"
      ],
      "execution_count": 7,
      "outputs": [
        {
          "output_type": "stream",
          "text": [
            "WARNING:tensorflow:From /usr/local/lib/python3.6/dist-packages/tensorflow/python/ops/resource_variable_ops.py:1666: calling BaseResourceVariable.__init__ (from tensorflow.python.ops.resource_variable_ops) with constraint is deprecated and will be removed in a future version.\n",
            "Instructions for updating:\n",
            "If using Keras pass *_constraint arguments to layers.\n",
            "WARNING:tensorflow:From /usr/local/lib/python3.6/dist-packages/tensorflow/python/training/training_util.py:236: Variable.initialized_value (from tensorflow.python.ops.variables) is deprecated and will be removed in a future version.\n",
            "Instructions for updating:\n",
            "Use Variable.read_value. Variables in 2.X are initialized automatically both in eager and graph (inside tf.defun) contexts.\n",
            "INFO:tensorflow:Calling model_fn.\n",
            "WARNING:tensorflow:Layer dnn is casting an input tensor from dtype float64 to the layer's dtype of float32, which is new behavior in TensorFlow 2.  The layer has dtype float32 because it's dtype defaults to floatx.\n",
            "\n",
            "If you intended to run this layer in float32, you can safely ignore this warning. If in doubt, this warning is likely only an issue if you are porting a TensorFlow 1.X model to TensorFlow 2.\n",
            "\n",
            "To change all layers to have dtype float64 by default, call `tf.keras.backend.set_floatx('float64')`. To change just this layer, pass dtype='float64' to the layer constructor. If you are the author of this layer, you can disable autocasting by passing autocast=False to the base Layer constructor.\n",
            "\n",
            "WARNING:tensorflow:From /usr/local/lib/python3.6/dist-packages/tensorflow/python/keras/optimizer_v2/adagrad.py:106: calling Constant.__init__ (from tensorflow.python.ops.init_ops) with dtype is deprecated and will be removed in a future version.\n",
            "Instructions for updating:\n",
            "Call initializer instance with the dtype argument instead of passing it to the constructor\n",
            "INFO:tensorflow:Done calling model_fn.\n",
            "INFO:tensorflow:Create CheckpointSaverHook.\n",
            "INFO:tensorflow:Graph was finalized.\n",
            "INFO:tensorflow:Running local_init_op.\n",
            "INFO:tensorflow:Done running local_init_op.\n",
            "INFO:tensorflow:Calling checkpoint listeners before saving checkpoint 0...\n",
            "INFO:tensorflow:Saving checkpoints for 0 into /tmp/tmp0osfpa9j/model.ckpt.\n",
            "INFO:tensorflow:Calling checkpoint listeners after saving checkpoint 0...\n",
            "INFO:tensorflow:loss = 1.6327448, step = 0\n",
            "INFO:tensorflow:global_step/sec: 475.332\n",
            "INFO:tensorflow:loss = 1.1484206, step = 100 (0.215 sec)\n",
            "WARNING:tensorflow:It seems that global step (tf.train.get_global_step) has not been increased. Current value (could be stable): 109 vs previous value: 109. You could increase the global step by passing tf.train.get_global_step() to Optimizer.apply_gradients or Optimizer.minimize.\n",
            "INFO:tensorflow:global_step/sec: 597.6\n",
            "INFO:tensorflow:loss = 1.0388591, step = 200 (0.168 sec)\n",
            "INFO:tensorflow:global_step/sec: 513.776\n",
            "INFO:tensorflow:loss = 0.9423325, step = 300 (0.194 sec)\n",
            "INFO:tensorflow:global_step/sec: 521.033\n",
            "INFO:tensorflow:loss = 0.88937885, step = 400 (0.189 sec)\n",
            "INFO:tensorflow:global_step/sec: 625.663\n",
            "INFO:tensorflow:loss = 0.8498278, step = 500 (0.160 sec)\n",
            "INFO:tensorflow:global_step/sec: 570.43\n",
            "INFO:tensorflow:loss = 0.78140134, step = 600 (0.175 sec)\n",
            "INFO:tensorflow:global_step/sec: 611.325\n",
            "INFO:tensorflow:loss = 0.74639714, step = 700 (0.164 sec)\n",
            "INFO:tensorflow:global_step/sec: 560.035\n",
            "INFO:tensorflow:loss = 0.705011, step = 800 (0.181 sec)\n",
            "INFO:tensorflow:global_step/sec: 569.763\n",
            "INFO:tensorflow:loss = 0.6806948, step = 900 (0.173 sec)\n",
            "INFO:tensorflow:global_step/sec: 609.032\n",
            "INFO:tensorflow:loss = 0.66404355, step = 1000 (0.166 sec)\n",
            "INFO:tensorflow:global_step/sec: 626.564\n",
            "INFO:tensorflow:loss = 0.64139223, step = 1100 (0.159 sec)\n",
            "INFO:tensorflow:global_step/sec: 570.755\n",
            "INFO:tensorflow:loss = 0.623283, step = 1200 (0.177 sec)\n",
            "INFO:tensorflow:global_step/sec: 602.877\n",
            "INFO:tensorflow:loss = 0.6125851, step = 1300 (0.163 sec)\n",
            "INFO:tensorflow:global_step/sec: 639.254\n",
            "INFO:tensorflow:loss = 0.60323083, step = 1400 (0.157 sec)\n",
            "INFO:tensorflow:global_step/sec: 608.845\n",
            "INFO:tensorflow:loss = 0.5868146, step = 1500 (0.164 sec)\n",
            "INFO:tensorflow:global_step/sec: 535.872\n",
            "INFO:tensorflow:loss = 0.58020115, step = 1600 (0.189 sec)\n",
            "INFO:tensorflow:global_step/sec: 612.348\n",
            "INFO:tensorflow:loss = 0.56481326, step = 1700 (0.163 sec)\n",
            "INFO:tensorflow:global_step/sec: 594.324\n",
            "INFO:tensorflow:loss = 0.55237997, step = 1800 (0.166 sec)\n",
            "INFO:tensorflow:global_step/sec: 622.907\n",
            "INFO:tensorflow:loss = 0.5305973, step = 1900 (0.162 sec)\n",
            "INFO:tensorflow:global_step/sec: 619.093\n",
            "INFO:tensorflow:loss = 0.5338905, step = 2000 (0.159 sec)\n",
            "INFO:tensorflow:global_step/sec: 624.781\n",
            "INFO:tensorflow:loss = 0.516994, step = 2100 (0.160 sec)\n",
            "INFO:tensorflow:global_step/sec: 568.764\n",
            "INFO:tensorflow:loss = 0.52015305, step = 2200 (0.177 sec)\n",
            "INFO:tensorflow:global_step/sec: 573.868\n",
            "INFO:tensorflow:loss = 0.5036423, step = 2300 (0.176 sec)\n",
            "INFO:tensorflow:global_step/sec: 631.172\n",
            "INFO:tensorflow:loss = 0.4933836, step = 2400 (0.158 sec)\n",
            "INFO:tensorflow:global_step/sec: 584.923\n",
            "INFO:tensorflow:loss = 0.4920555, step = 2500 (0.171 sec)\n",
            "INFO:tensorflow:global_step/sec: 535.321\n",
            "INFO:tensorflow:loss = 0.4934879, step = 2600 (0.185 sec)\n",
            "INFO:tensorflow:global_step/sec: 554.332\n",
            "INFO:tensorflow:loss = 0.480975, step = 2700 (0.180 sec)\n",
            "INFO:tensorflow:global_step/sec: 638.277\n",
            "INFO:tensorflow:loss = 0.4740874, step = 2800 (0.156 sec)\n",
            "INFO:tensorflow:global_step/sec: 621.916\n",
            "INFO:tensorflow:loss = 0.466689, step = 2900 (0.161 sec)\n",
            "INFO:tensorflow:global_step/sec: 593.229\n",
            "INFO:tensorflow:loss = 0.46009564, step = 3000 (0.171 sec)\n",
            "INFO:tensorflow:global_step/sec: 570.841\n",
            "INFO:tensorflow:loss = 0.4446217, step = 3100 (0.174 sec)\n",
            "INFO:tensorflow:global_step/sec: 555.516\n",
            "INFO:tensorflow:loss = 0.45261645, step = 3200 (0.181 sec)\n",
            "INFO:tensorflow:global_step/sec: 581.782\n",
            "INFO:tensorflow:loss = 0.44843638, step = 3300 (0.172 sec)\n",
            "INFO:tensorflow:global_step/sec: 612.238\n",
            "INFO:tensorflow:loss = 0.43710935, step = 3400 (0.161 sec)\n",
            "INFO:tensorflow:global_step/sec: 637.38\n",
            "INFO:tensorflow:loss = 0.43097293, step = 3500 (0.159 sec)\n",
            "INFO:tensorflow:global_step/sec: 632.459\n",
            "INFO:tensorflow:loss = 0.4304023, step = 3600 (0.159 sec)\n",
            "INFO:tensorflow:global_step/sec: 549.506\n",
            "INFO:tensorflow:loss = 0.42447203, step = 3700 (0.178 sec)\n",
            "INFO:tensorflow:global_step/sec: 613.759\n",
            "INFO:tensorflow:loss = 0.40473366, step = 3800 (0.165 sec)\n",
            "INFO:tensorflow:global_step/sec: 607.95\n",
            "INFO:tensorflow:loss = 0.4119118, step = 3900 (0.162 sec)\n",
            "INFO:tensorflow:global_step/sec: 559.406\n",
            "INFO:tensorflow:loss = 0.41159534, step = 4000 (0.182 sec)\n",
            "INFO:tensorflow:global_step/sec: 625.017\n",
            "INFO:tensorflow:loss = 0.4102612, step = 4100 (0.159 sec)\n",
            "INFO:tensorflow:global_step/sec: 625.702\n",
            "INFO:tensorflow:loss = 0.40258938, step = 4200 (0.160 sec)\n",
            "INFO:tensorflow:global_step/sec: 616.443\n",
            "INFO:tensorflow:loss = 0.39275253, step = 4300 (0.161 sec)\n",
            "INFO:tensorflow:global_step/sec: 596.471\n",
            "INFO:tensorflow:loss = 0.39274147, step = 4400 (0.168 sec)\n",
            "INFO:tensorflow:global_step/sec: 637.685\n",
            "INFO:tensorflow:loss = 0.3927179, step = 4500 (0.157 sec)\n",
            "INFO:tensorflow:global_step/sec: 606.214\n",
            "INFO:tensorflow:loss = 0.37130058, step = 4600 (0.167 sec)\n",
            "INFO:tensorflow:global_step/sec: 636.649\n",
            "INFO:tensorflow:loss = 0.37993616, step = 4700 (0.155 sec)\n",
            "INFO:tensorflow:global_step/sec: 640.045\n",
            "INFO:tensorflow:loss = 0.3778379, step = 4800 (0.158 sec)\n",
            "INFO:tensorflow:global_step/sec: 617.442\n",
            "INFO:tensorflow:loss = 0.37922636, step = 4900 (0.160 sec)\n",
            "INFO:tensorflow:Calling checkpoint listeners before saving checkpoint 5000...\n",
            "INFO:tensorflow:Saving checkpoints for 5000 into /tmp/tmp0osfpa9j/model.ckpt.\n",
            "INFO:tensorflow:Calling checkpoint listeners after saving checkpoint 5000...\n",
            "INFO:tensorflow:Loss for final step: 0.37887552.\n"
          ],
          "name": "stdout"
        },
        {
          "output_type": "execute_result",
          "data": {
            "text/plain": [
              "<tensorflow_estimator.python.estimator.canned.dnn.DNNClassifierV2 at 0x7f48f157e080>"
            ]
          },
          "metadata": {
            "tags": []
          },
          "execution_count": 7
        }
      ]
    },
    {
      "cell_type": "code",
      "metadata": {
        "id": "uIwsP3hRnDLO",
        "colab_type": "code",
        "colab": {
          "base_uri": "https://localhost:8080/",
          "height": 339
        },
        "outputId": "35c572d0-b6bc-44ac-da60-b2d45cd9a95b"
      },
      "source": [
        "eval_result= classifier.evaluate(input_fn= lambda: in_fn(test, test_label, training= False))\n",
        "print(eval_result)"
      ],
      "execution_count": 8,
      "outputs": [
        {
          "output_type": "stream",
          "text": [
            "INFO:tensorflow:Calling model_fn.\n",
            "WARNING:tensorflow:Layer dnn is casting an input tensor from dtype float64 to the layer's dtype of float32, which is new behavior in TensorFlow 2.  The layer has dtype float32 because it's dtype defaults to floatx.\n",
            "\n",
            "If you intended to run this layer in float32, you can safely ignore this warning. If in doubt, this warning is likely only an issue if you are porting a TensorFlow 1.X model to TensorFlow 2.\n",
            "\n",
            "To change all layers to have dtype float64 by default, call `tf.keras.backend.set_floatx('float64')`. To change just this layer, pass dtype='float64' to the layer constructor. If you are the author of this layer, you can disable autocasting by passing autocast=False to the base Layer constructor.\n",
            "\n",
            "INFO:tensorflow:Done calling model_fn.\n",
            "INFO:tensorflow:Starting evaluation at 2020-07-04T16:53:56Z\n",
            "INFO:tensorflow:Graph was finalized.\n",
            "INFO:tensorflow:Restoring parameters from /tmp/tmp0osfpa9j/model.ckpt-5000\n",
            "INFO:tensorflow:Running local_init_op.\n",
            "INFO:tensorflow:Done running local_init_op.\n",
            "INFO:tensorflow:Inference Time : 0.24433s\n",
            "INFO:tensorflow:Finished evaluation at 2020-07-04-16:53:56\n",
            "INFO:tensorflow:Saving dict for global step 5000: accuracy = 0.9, average_loss = 0.4467338, global_step = 5000, loss = 0.4467338\n",
            "INFO:tensorflow:Saving 'checkpoint_path' summary for global step 5000: /tmp/tmp0osfpa9j/model.ckpt-5000\n",
            "{'accuracy': 0.9, 'average_loss': 0.4467338, 'loss': 0.4467338, 'global_step': 5000}\n"
          ],
          "name": "stdout"
        }
      ]
    },
    {
      "cell_type": "code",
      "metadata": {
        "id": "IKZwycKUpCHG",
        "colab_type": "code",
        "colab": {}
      },
      "source": [
        "#making predictions\n",
        "\n",
        "expected = ['Setosa', 'Versicolor', 'Virginica']\n",
        "predict_x = {\n",
        "    'SepalLength': [5.1, 5.9, 6.9],\n",
        "    'SepalWidth': [3.3, 3.0, 3.1],\n",
        "    'PetalLength': [1.7, 4.2, 5.4],\n",
        "    'PetalWidth': [0.5, 1.5, 2.1],\n",
        "}\n",
        "\n",
        "def input_fn(features, batch_size=256):\n",
        "    \"\"\"An input function for prediction.\"\"\"\n",
        "    # Convert the inputs to a Dataset without labels.\n",
        "    return tf.data.Dataset.from_tensor_slices(dict(features)).batch(batch_size)\n",
        "\n",
        "predictions = classifier.predict(\n",
        "    input_fn=lambda: input_fn(predict_x))"
      ],
      "execution_count": 9,
      "outputs": []
    },
    {
      "cell_type": "code",
      "metadata": {
        "id": "flJNDyARq23y",
        "colab_type": "code",
        "colab": {
          "base_uri": "https://localhost:8080/",
          "height": 168
        },
        "outputId": "b56b3f64-a827-4385-ee68-155b1b1bbf5e"
      },
      "source": [
        "zipped = zip(predictions, expected)\n",
        "for pred, ex in zipped:\n",
        "   class_id = pred['class_ids'][0]\n",
        "   probability = pred['probabilities'][class_id]\n",
        "   print('the prediction is', species[class_id],\n",
        "         'probability=', 100*probability,\n",
        "         'expected= ', ex)"
      ],
      "execution_count": 10,
      "outputs": [
        {
          "output_type": "stream",
          "text": [
            "INFO:tensorflow:Calling model_fn.\n",
            "INFO:tensorflow:Done calling model_fn.\n",
            "INFO:tensorflow:Graph was finalized.\n",
            "INFO:tensorflow:Restoring parameters from /tmp/tmp0osfpa9j/model.ckpt-5000\n",
            "INFO:tensorflow:Running local_init_op.\n",
            "INFO:tensorflow:Done running local_init_op.\n",
            "the prediction is Setosa probability= 86.6962730884552 expected=  Setosa\n",
            "the prediction is Versicolor probability= 51.23116970062256 expected=  Versicolor\n",
            "the prediction is Virginica probability= 63.15029859542847 expected=  Virginica\n"
          ],
          "name": "stdout"
        }
      ]
    },
    {
      "cell_type": "code",
      "metadata": {
        "id": "x0l1YcI_rsR9",
        "colab_type": "code",
        "colab": {}
      },
      "source": [
        ""
      ],
      "execution_count": 10,
      "outputs": []
    }
  ]
}