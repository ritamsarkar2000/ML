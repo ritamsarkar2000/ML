{
  "nbformat": 4,
  "nbformat_minor": 0,
  "metadata": {
    "colab": {
      "name": "cat vs dog.ipynb",
      "provenance": [],
      "authorship_tag": "ABX9TyNKz6njuKmqJr1nN6WIUxIo",
      "include_colab_link": true
    },
    "kernelspec": {
      "name": "python3",
      "display_name": "Python 3"
    },
    "accelerator": "GPU"
  },
  "cells": [
    {
      "cell_type": "markdown",
      "metadata": {
        "id": "view-in-github",
        "colab_type": "text"
      },
      "source": [
        "<a href=\"https://colab.research.google.com/github/ritamsarkar2000/ML/blob/master/cat_vs_dog.ipynb\" target=\"_parent\"><img src=\"https://colab.research.google.com/assets/colab-badge.svg\" alt=\"Open In Colab\"/></a>"
      ]
    },
    {
      "cell_type": "code",
      "metadata": {
        "id": "rK61voPoIwuW",
        "colab_type": "code",
        "colab": {}
      },
      "source": [
        "import tensorflow as tf\n",
        "from tensorflow.keras.models import Sequential\n",
        "from tensorflow.keras.layers import Dense, Conv2D, Flatten, Dropout, MaxPooling2D\n",
        "from tensorflow.keras.preprocessing.image import ImageDataGenerator\n",
        "\n",
        "import os\n",
        "\n",
        "import numpy as np \n",
        "\n",
        "import matplotlib.pyplot as plt\n"
      ],
      "execution_count": 1,
      "outputs": []
    },
    {
      "cell_type": "code",
      "metadata": {
        "id": "xEfy5p4lLkog",
        "colab_type": "code",
        "colab": {
          "base_uri": "https://localhost:8080/",
          "height": 50
        },
        "outputId": "d64ca7bc-2724-4518-fd6b-1c980a7c80a7"
      },
      "source": [
        "url = 'https://storage.googleapis.com/mledu-datasets/cats_and_dogs_filtered.zip'\n",
        "\n",
        "path = tf.keras.utils.get_file('cats_and_dogs.zip', origin=url, extract=True)"
      ],
      "execution_count": 2,
      "outputs": [
        {
          "output_type": "stream",
          "text": [
            "Downloading data from https://storage.googleapis.com/mledu-datasets/cats_and_dogs_filtered.zip\n",
            "68608000/68606236 [==============================] - 2s 0us/step\n"
          ],
          "name": "stdout"
        }
      ]
    },
    {
      "cell_type": "code",
      "metadata": {
        "id": "d4L9h-DBVV3x",
        "colab_type": "code",
        "colab": {
          "base_uri": "https://localhost:8080/",
          "height": 118
        },
        "outputId": "545724a1-bb5a-4624-adf2-7f421bee3f62"
      },
      "source": [
        "PATH = os.path.join(os.path.dirname(path), 'cats_and_dogs_filtered')\n",
        "train_dir= os.path.join(PATH, 'train')\n",
        "val_dir= os.path.join(PATH,'validation')\n",
        "\n",
        "train_cats_dir= os.path.join(train_dir, 'cats')             #training directory for cats\n",
        "train_dogs_dir= os.path.join(train_dir, 'dogs')             #training directory for dogs\n",
        "\n",
        "val_cats_dir= os.path.join(val_dir, 'cats')                 #validation dir for cats\n",
        "val_dogs_dir= os.path.join(val_dir, 'dogs')                 #validation dir for dogs\n",
        "num_cats_train= len(os.listdir(train_cats_dir))            # number of cat images in training set\n",
        "num_dogs_train= len(os.listdir(train_dogs_dir))            # number of dog images in training set\n",
        "\n",
        "num_cats_val= len(os.listdir(val_cats_dir))                # number of cat images in val set\n",
        "num_dogs_val= len(os.listdir(val_dogs_dir))\n",
        "\n",
        "print('the number of cats in training set:', num_cats_train)\n",
        "print('the number of dogs in training set:', num_dogs_train)\n",
        "print('the number of cats in val set:', num_cats_val)\n",
        "print('the number of dogs in val set:', num_dogs_val)\n",
        "\n",
        "total_cats= num_cats_train + num_cats_val\n",
        "total_dogs= num_dogs_train + num_dogs_val\n",
        "\n",
        "print('total number of cat images:', total_cats)\n",
        "print('total number of dog images:', total_dogs)"
      ],
      "execution_count": 3,
      "outputs": [
        {
          "output_type": "stream",
          "text": [
            "the number of cats in training set: 1000\n",
            "the number of dogs in training set: 1000\n",
            "the number of cats in val set: 500\n",
            "the number of dogs in val set: 500\n",
            "total number of cat images: 1500\n",
            "total number of dog images: 1500\n"
          ],
          "name": "stdout"
        }
      ]
    },
    {
      "cell_type": "code",
      "metadata": {
        "id": "xsThug46lj0n",
        "colab_type": "code",
        "colab": {}
      },
      "source": [
        "batch_size= 128\n",
        "epochs= 35\n",
        "image_shape=120"
      ],
      "execution_count": 4,
      "outputs": []
    },
    {
      "cell_type": "code",
      "metadata": {
        "id": "4hFxetyzl_MY",
        "colab_type": "code",
        "colab": {
          "base_uri": "https://localhost:8080/",
          "height": 50
        },
        "outputId": "715158ba-182f-4bad-d635-b96d65ba0892"
      },
      "source": [
        "image_gen_train= ImageDataGenerator(rescale= 1./255,\n",
        "                                    horizontal_flip= True,\n",
        "                                    rotation_range= 45,\n",
        "                                    width_shift_range=.5,\n",
        "                                    height_shift_range= .5,\n",
        "                                    zoom_range=.5)\n",
        "\n",
        "train_data_gen= image_gen_train.flow_from_directory(batch_size=batch_size,\n",
        "                                                    directory= train_dir, \n",
        "                                                    shuffle=True,\n",
        "                                                    target_size=(image_shape,image_shape),\n",
        "                                                    class_mode= 'binary')\n",
        "\n",
        "image_gen_val= ImageDataGenerator(rescale=1./255)\n",
        "\n",
        "val_data_gen= image_gen_val.flow_from_directory(batch_size= batch_size,\n",
        "                                                directory= val_dir,\n",
        "                                                target_size= (image_shape,image_shape),\n",
        "                                                class_mode='binary')"
      ],
      "execution_count": 5,
      "outputs": [
        {
          "output_type": "stream",
          "text": [
            "Found 2000 images belonging to 2 classes.\n",
            "Found 1000 images belonging to 2 classes.\n"
          ],
          "name": "stdout"
        }
      ]
    },
    {
      "cell_type": "code",
      "metadata": {
        "id": "kC6ii1Ijx4-0",
        "colab_type": "code",
        "colab": {
          "base_uri": "https://localhost:8080/",
          "height": 554
        },
        "outputId": "4d211c54-7728-4168-eb11-a548ac168faf"
      },
      "source": [
        "model = Sequential([Conv2D(32,(3,3), padding='same', activation='relu', input_shape=(image_shape, image_shape, 3)),\n",
        "                    MaxPooling2D(),\n",
        "                    Dropout(0.2),\n",
        "                    Conv2D(32, (3,3), padding='same', activation='relu'),\n",
        "                    MaxPooling2D(),\n",
        "                    Dropout(0.2),\n",
        "                    Conv2D(64,(3,3), padding='same', activation='relu'),\n",
        "                    MaxPooling2D(),\n",
        "                    Dropout(0.2),\n",
        "                    Flatten(),\n",
        "                    Dense(512, activation='relu'),\n",
        "                    Dense(1)\n",
        "])\n",
        "\n",
        "model.summary()"
      ],
      "execution_count": 6,
      "outputs": [
        {
          "output_type": "stream",
          "text": [
            "Model: \"sequential\"\n",
            "_________________________________________________________________\n",
            "Layer (type)                 Output Shape              Param #   \n",
            "=================================================================\n",
            "conv2d (Conv2D)              (None, 120, 120, 32)      896       \n",
            "_________________________________________________________________\n",
            "max_pooling2d (MaxPooling2D) (None, 60, 60, 32)        0         \n",
            "_________________________________________________________________\n",
            "dropout (Dropout)            (None, 60, 60, 32)        0         \n",
            "_________________________________________________________________\n",
            "conv2d_1 (Conv2D)            (None, 60, 60, 32)        9248      \n",
            "_________________________________________________________________\n",
            "max_pooling2d_1 (MaxPooling2 (None, 30, 30, 32)        0         \n",
            "_________________________________________________________________\n",
            "dropout_1 (Dropout)          (None, 30, 30, 32)        0         \n",
            "_________________________________________________________________\n",
            "conv2d_2 (Conv2D)            (None, 30, 30, 64)        18496     \n",
            "_________________________________________________________________\n",
            "max_pooling2d_2 (MaxPooling2 (None, 15, 15, 64)        0         \n",
            "_________________________________________________________________\n",
            "dropout_2 (Dropout)          (None, 15, 15, 64)        0         \n",
            "_________________________________________________________________\n",
            "flatten (Flatten)            (None, 14400)             0         \n",
            "_________________________________________________________________\n",
            "dense (Dense)                (None, 512)               7373312   \n",
            "_________________________________________________________________\n",
            "dense_1 (Dense)              (None, 1)                 513       \n",
            "=================================================================\n",
            "Total params: 7,402,465\n",
            "Trainable params: 7,402,465\n",
            "Non-trainable params: 0\n",
            "_________________________________________________________________\n"
          ],
          "name": "stdout"
        }
      ]
    },
    {
      "cell_type": "code",
      "metadata": {
        "id": "0qcc77It16SZ",
        "colab_type": "code",
        "colab": {
          "base_uri": "https://localhost:8080/",
          "height": 1000
        },
        "outputId": "2d235253-f50f-4f3b-d059-b5b745bdc1b0"
      },
      "source": [
        "model.compile(optimizer='adam',\n",
        "              loss=tf.keras.losses.BinaryCrossentropy(from_logits=True),\n",
        "              metrics=['accuracy'])\n",
        "\n",
        "history = model.fit_generator(\n",
        "    train_data_gen,\n",
        "    steps_per_epoch=2000 // batch_size,\n",
        "    epochs=epochs,\n",
        "    validation_data=val_data_gen,\n",
        "    validation_steps=1000 // batch_size)"
      ],
      "execution_count": 7,
      "outputs": [
        {
          "output_type": "stream",
          "text": [
            "WARNING:tensorflow:From <ipython-input-7-dd0a4e86c294>:10: Model.fit_generator (from tensorflow.python.keras.engine.training) is deprecated and will be removed in a future version.\n",
            "Instructions for updating:\n",
            "Please use Model.fit, which supports generators.\n",
            "Epoch 1/35\n",
            "15/15 [==============================] - 16s 1s/step - loss: 1.1348 - accuracy: 0.4888 - val_loss: 0.6933 - val_accuracy: 0.5011\n",
            "Epoch 2/35\n",
            "15/15 [==============================] - 15s 1s/step - loss: 0.6933 - accuracy: 0.5027 - val_loss: 0.6931 - val_accuracy: 0.4967\n",
            "Epoch 3/35\n",
            "15/15 [==============================] - 16s 1s/step - loss: 0.6928 - accuracy: 0.4909 - val_loss: 0.6927 - val_accuracy: 0.5000\n",
            "Epoch 4/35\n",
            "15/15 [==============================] - 15s 1s/step - loss: 0.6925 - accuracy: 0.4973 - val_loss: 0.6916 - val_accuracy: 0.5000\n",
            "Epoch 5/35\n",
            "15/15 [==============================] - 15s 1s/step - loss: 0.6879 - accuracy: 0.5107 - val_loss: 0.6745 - val_accuracy: 0.5513\n",
            "Epoch 6/35\n",
            "15/15 [==============================] - 15s 996ms/step - loss: 0.6803 - accuracy: 0.5310 - val_loss: 0.6679 - val_accuracy: 0.5469\n",
            "Epoch 7/35\n",
            "15/15 [==============================] - 15s 998ms/step - loss: 0.6698 - accuracy: 0.5604 - val_loss: 0.6513 - val_accuracy: 0.5904\n",
            "Epoch 8/35\n",
            "15/15 [==============================] - 15s 995ms/step - loss: 0.6668 - accuracy: 0.5625 - val_loss: 0.6647 - val_accuracy: 0.5513\n",
            "Epoch 9/35\n",
            "15/15 [==============================] - 15s 977ms/step - loss: 0.6743 - accuracy: 0.5438 - val_loss: 0.6572 - val_accuracy: 0.5703\n",
            "Epoch 10/35\n",
            "15/15 [==============================] - 14s 963ms/step - loss: 0.6644 - accuracy: 0.5646 - val_loss: 0.6498 - val_accuracy: 0.6060\n",
            "Epoch 11/35\n",
            "15/15 [==============================] - 15s 968ms/step - loss: 0.6614 - accuracy: 0.5769 - val_loss: 0.6561 - val_accuracy: 0.5737\n",
            "Epoch 12/35\n",
            "15/15 [==============================] - 15s 970ms/step - loss: 0.6622 - accuracy: 0.5540 - val_loss: 0.6532 - val_accuracy: 0.5703\n",
            "Epoch 13/35\n",
            "15/15 [==============================] - 14s 960ms/step - loss: 0.6543 - accuracy: 0.5801 - val_loss: 0.6524 - val_accuracy: 0.5971\n",
            "Epoch 14/35\n",
            "15/15 [==============================] - 15s 996ms/step - loss: 0.6604 - accuracy: 0.5705 - val_loss: 0.6444 - val_accuracy: 0.5770\n",
            "Epoch 15/35\n",
            "15/15 [==============================] - 15s 1s/step - loss: 0.6680 - accuracy: 0.5582 - val_loss: 0.6865 - val_accuracy: 0.6038\n",
            "Epoch 16/35\n",
            "15/15 [==============================] - 15s 983ms/step - loss: 0.6608 - accuracy: 0.5737 - val_loss: 0.6450 - val_accuracy: 0.5792\n",
            "Epoch 17/35\n",
            "15/15 [==============================] - 15s 998ms/step - loss: 0.6568 - accuracy: 0.5636 - val_loss: 0.6620 - val_accuracy: 0.5971\n",
            "Epoch 18/35\n",
            "15/15 [==============================] - 15s 1s/step - loss: 0.6580 - accuracy: 0.5646 - val_loss: 0.6784 - val_accuracy: 0.6038\n",
            "Epoch 19/35\n",
            "15/15 [==============================] - 15s 983ms/step - loss: 0.6492 - accuracy: 0.5791 - val_loss: 0.6454 - val_accuracy: 0.6150\n",
            "Epoch 20/35\n",
            "15/15 [==============================] - 15s 995ms/step - loss: 0.6505 - accuracy: 0.5700 - val_loss: 0.6372 - val_accuracy: 0.5893\n",
            "Epoch 21/35\n",
            "15/15 [==============================] - 15s 1s/step - loss: 0.6527 - accuracy: 0.5785 - val_loss: 0.6541 - val_accuracy: 0.5915\n",
            "Epoch 22/35\n",
            "15/15 [==============================] - 15s 1s/step - loss: 0.6467 - accuracy: 0.5769 - val_loss: 0.6426 - val_accuracy: 0.6205\n",
            "Epoch 23/35\n",
            "15/15 [==============================] - 15s 1s/step - loss: 0.6391 - accuracy: 0.5865 - val_loss: 0.6256 - val_accuracy: 0.5893\n",
            "Epoch 24/35\n",
            "15/15 [==============================] - 15s 1s/step - loss: 0.6418 - accuracy: 0.5908 - val_loss: 0.6350 - val_accuracy: 0.6049\n",
            "Epoch 25/35\n",
            "15/15 [==============================] - 15s 995ms/step - loss: 0.6321 - accuracy: 0.5844 - val_loss: 0.6524 - val_accuracy: 0.6161\n",
            "Epoch 26/35\n",
            "15/15 [==============================] - 15s 991ms/step - loss: 0.6311 - accuracy: 0.5919 - val_loss: 0.6602 - val_accuracy: 0.6183\n",
            "Epoch 27/35\n",
            "15/15 [==============================] - 15s 987ms/step - loss: 0.6456 - accuracy: 0.5823 - val_loss: 0.6768 - val_accuracy: 0.6205\n",
            "Epoch 28/35\n",
            "15/15 [==============================] - 15s 998ms/step - loss: 0.6282 - accuracy: 0.5924 - val_loss: 0.6135 - val_accuracy: 0.6328\n",
            "Epoch 29/35\n",
            "15/15 [==============================] - 15s 997ms/step - loss: 0.6282 - accuracy: 0.6116 - val_loss: 0.6120 - val_accuracy: 0.6339\n",
            "Epoch 30/35\n",
            "15/15 [==============================] - 15s 1s/step - loss: 0.6374 - accuracy: 0.5951 - val_loss: 0.6113 - val_accuracy: 0.6116\n",
            "Epoch 31/35\n",
            "15/15 [==============================] - 15s 1s/step - loss: 0.6357 - accuracy: 0.5903 - val_loss: 0.6120 - val_accuracy: 0.6150\n",
            "Epoch 32/35\n",
            "15/15 [==============================] - 15s 996ms/step - loss: 0.6325 - accuracy: 0.5999 - val_loss: 0.6286 - val_accuracy: 0.6317\n",
            "Epoch 33/35\n",
            "15/15 [==============================] - 15s 992ms/step - loss: 0.6285 - accuracy: 0.6058 - val_loss: 0.6100 - val_accuracy: 0.6194\n",
            "Epoch 34/35\n",
            "15/15 [==============================] - 15s 993ms/step - loss: 0.6233 - accuracy: 0.6159 - val_loss: 0.6232 - val_accuracy: 0.6138\n",
            "Epoch 35/35\n",
            "15/15 [==============================] - 15s 987ms/step - loss: 0.6357 - accuracy: 0.5946 - val_loss: 0.6003 - val_accuracy: 0.6150\n"
          ],
          "name": "stdout"
        }
      ]
    },
    {
      "cell_type": "code",
      "metadata": {
        "id": "1I1ETq2x4rhn",
        "colab_type": "code",
        "colab": {
          "base_uri": "https://localhost:8080/",
          "height": 499
        },
        "outputId": "b448ab5c-d0d4-477f-c033-6dfc792a6bce"
      },
      "source": [
        "acc = history.history['accuracy']\n",
        "val_acc = history.history['val_accuracy']\n",
        "\n",
        "loss = history.history['loss']\n",
        "val_loss = history.history['val_loss']\n",
        "\n",
        "epochs_range = range(epochs)\n",
        "\n",
        "plt.figure(figsize=(8, 8))\n",
        "plt.subplot(1, 2, 1)\n",
        "plt.plot(epochs_range, acc, label='Training Accuracy')\n",
        "plt.plot(epochs_range, val_acc, label='Validation Accuracy')\n",
        "plt.legend(loc='lower right')\n",
        "plt.title('Training and Validation Accuracy')\n",
        "\n",
        "plt.subplot(1, 2, 2)\n",
        "plt.plot(epochs_range, loss, label='Training Loss')\n",
        "plt.plot(epochs_range, val_loss, label='Validation Loss')\n",
        "plt.legend(loc='upper right')\n",
        "plt.title('Training and Validation Loss')\n",
        "plt.show()"
      ],
      "execution_count": 8,
      "outputs": [
        {
          "output_type": "display_data",
          "data": {
            "image/png": "[encoded data removed]",
            "text/plain": [
              "<Figure size 576x576 with 2 Axes>"
            ]
          },
          "metadata": {
            "tags": [],
            "needs_background": "light"
          }
        }
      ]
    },
    {
      "cell_type": "code",
      "metadata": {
        "id": "hc53We7u-Rew",
        "colab_type": "code",
        "colab": {}
      },
      "source": [
        ""
      ],
      "execution_count": 8,
      "outputs": []
    }
  ]
}