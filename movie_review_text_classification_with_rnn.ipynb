{
  "nbformat": 4,
  "nbformat_minor": 0,
  "metadata": {
    "colab": {
      "name": "movie review text classification with rnn.ipynb",
      "provenance": [],
      "authorship_tag": "ABX9TyNiNHOB+HVxAsnUfZp3imL7",
      "include_colab_link": true
    },
    "kernelspec": {
      "name": "python3",
      "display_name": "Python 3"
    },
    "accelerator": "GPU"
  },
  "cells": [
    {
      "cell_type": "markdown",
      "metadata": {
        "id": "view-in-github",
        "colab_type": "text"
      },
      "source": [
        "<a href=\"https://colab.research.google.com/github/ritamsarkar2000/ML/blob/master/movie_review_text_classification_with_rnn.ipynb\" target=\"_parent\"><img src=\"https://colab.research.google.com/assets/colab-badge.svg\" alt=\"Open In Colab\"/></a>"
      ]
    },
    {
      "cell_type": "code",
      "metadata": {
        "id": "-NjvlXOXRvyP",
        "colab_type": "code",
        "colab": {}
      },
      "source": [
        "import tensorflow as tf\n",
        "import tensorflow_datasets as tfds"
      ],
      "execution_count": 1,
      "outputs": []
    },
    {
      "cell_type": "code",
      "metadata": {
        "id": "2tFU9z47SMp0",
        "colab_type": "code",
        "colab": {}
      },
      "source": [
        "dataset, info = tfds.load('imdb_reviews/subwords8k', with_info= True,\n",
        "                          as_supervised= True)\n",
        "train_data, test_data = dataset['train'], dataset['test']"
      ],
      "execution_count": 2,
      "outputs": []
    },
    {
      "cell_type": "code",
      "metadata": {
        "id": "NDAAwCXLTxxI",
        "colab_type": "code",
        "colab": {
          "base_uri": "https://localhost:8080/",
          "height": 34
        },
        "outputId": "8113cebd-9152-4e6f-8f8d-40141eb8e9ab"
      },
      "source": [
        "encoder = info.features['text'].encoder\n",
        "encoder.vocab_size"
      ],
      "execution_count": 3,
      "outputs": [
        {
          "output_type": "execute_result",
          "data": {
            "text/plain": [
              "8185"
            ]
          },
          "metadata": {
            "tags": []
          },
          "execution_count": 3
        }
      ]
    },
    {
      "cell_type": "code",
      "metadata": {
        "id": "vgxLyuxQUAjl",
        "colab_type": "code",
        "colab": {
          "base_uri": "https://localhost:8080/",
          "height": 50
        },
        "outputId": "ee7aac34-6720-4206-c49c-0183cc6e6fe1"
      },
      "source": [
        "sample = ' There is no shame in having mental illnesses or being different and you should love and be proud of yourself '  #sample string to see the encoder output\n",
        "encoded_string = encoder.encode(sample)\n",
        "print('the sample encoded string is :', encoded_string ,'\\n and the real sample string is:', sample)"
      ],
      "execution_count": 4,
      "outputs": [
        {
          "output_type": "stream",
          "text": [
            "the sample encoded string is : [7961, 173, 9, 84, 2743, 11, 369, 3191, 905, 657, 112, 50, 139, 402, 5, 37, 180, 174, 5, 35, 6195, 7961, 6, 1445] \n",
            " and the real sample string is:  There is no shame in having mental illnesses or being different and you should love and be proud of yourself \n"
          ],
          "name": "stdout"
        }
      ]
    },
    {
      "cell_type": "code",
      "metadata": {
        "id": "xwGagWTtVpfa",
        "colab_type": "code",
        "colab": {}
      },
      "source": [
        "#preparing the data\n",
        "\n",
        "buffer_size = 10000\n",
        "batch_size = 64\n",
        "train_data = train_data.shuffle(buffer_size)\n",
        "train_data = train_data.padded_batch(batch_size)\n",
        "\n",
        "test_data = test_data.padded_batch(batch_size)"
      ],
      "execution_count": 5,
      "outputs": []
    },
    {
      "cell_type": "code",
      "metadata": {
        "id": "FeRuxNHfXr-2",
        "colab_type": "code",
        "colab": {
          "base_uri": "https://localhost:8080/",
          "height": 286
        },
        "outputId": "294a391a-9411-455d-dc22-3362567c5b43"
      },
      "source": [
        "# creating the model\n",
        "\n",
        "from tensorflow.keras import Sequential, layers\n",
        "\n",
        "model = Sequential([layers.Embedding(encoder.vocab_size, 64),\n",
        "                    layers.Bidirectional(layers.LSTM(64)),\n",
        "                    layers.Dense(64, activation = 'relu'),\n",
        "                    layers.Dense(1, activation = 'sigmoid')\n",
        "])\n",
        "\n",
        "model.compile(optimizer= tf.keras.optimizers.Adam(1e-4),\n",
        "              loss = tf.keras.losses.BinaryCrossentropy(from_logits = True),\n",
        "              metrics = ['accuracy'])\n",
        "\n",
        "model.summary()"
      ],
      "execution_count": 6,
      "outputs": [
        {
          "output_type": "stream",
          "text": [
            "Model: \"sequential\"\n",
            "_________________________________________________________________\n",
            "Layer (type)                 Output Shape              Param #   \n",
            "=================================================================\n",
            "embedding (Embedding)        (None, None, 64)          523840    \n",
            "_________________________________________________________________\n",
            "bidirectional (Bidirectional (None, 128)               66048     \n",
            "_________________________________________________________________\n",
            "dense (Dense)                (None, 64)                8256      \n",
            "_________________________________________________________________\n",
            "dense_1 (Dense)              (None, 1)                 65        \n",
            "=================================================================\n",
            "Total params: 598,209\n",
            "Trainable params: 598,209\n",
            "Non-trainable params: 0\n",
            "_________________________________________________________________\n"
          ],
          "name": "stdout"
        }
      ]
    },
    {
      "cell_type": "code",
      "metadata": {
        "id": "U0p0Vqe-ZquI",
        "colab_type": "code",
        "colab": {
          "base_uri": "https://localhost:8080/",
          "height": 353
        },
        "outputId": "3120a3d0-1de3-4587-f76c-f31dd8d8500e"
      },
      "source": [
        "#training the model\n",
        "\n",
        "history = model.fit(train_data,\n",
        "          epochs = 10,\n",
        "          validation_data= test_data,\n",
        "          validation_steps = 30)"
      ],
      "execution_count": 7,
      "outputs": [
        {
          "output_type": "stream",
          "text": [
            "Epoch 1/10\n",
            "391/391 [==============================] - 123s 313ms/step - loss: 0.6976 - accuracy: 0.5000 - val_loss: 0.6927 - val_accuracy: 0.4917\n",
            "Epoch 2/10\n",
            "391/391 [==============================] - 124s 316ms/step - loss: 0.6854 - accuracy: 0.5182 - val_loss: 0.6923 - val_accuracy: 0.4964\n",
            "Epoch 3/10\n",
            "391/391 [==============================] - 122s 312ms/step - loss: 0.6920 - accuracy: 0.5056 - val_loss: 0.6924 - val_accuracy: 0.4953\n",
            "Epoch 4/10\n",
            "391/391 [==============================] - 122s 312ms/step - loss: 0.6918 - accuracy: 0.5050 - val_loss: 0.6929 - val_accuracy: 0.4922\n",
            "Epoch 5/10\n",
            "391/391 [==============================] - 121s 308ms/step - loss: 0.6879 - accuracy: 0.5183 - val_loss: 0.6334 - val_accuracy: 0.7208\n",
            "Epoch 6/10\n",
            "391/391 [==============================] - 121s 308ms/step - loss: 0.5950 - accuracy: 0.7990 - val_loss: 0.6016 - val_accuracy: 0.7391\n",
            "Epoch 7/10\n",
            "391/391 [==============================] - 121s 309ms/step - loss: 0.5676 - accuracy: 0.8629 - val_loss: 0.5723 - val_accuracy: 0.8510\n",
            "Epoch 8/10\n",
            "391/391 [==============================] - 121s 309ms/step - loss: 0.5560 - accuracy: 0.8862 - val_loss: 0.5745 - val_accuracy: 0.8516\n",
            "Epoch 9/10\n",
            "391/391 [==============================] - 121s 310ms/step - loss: 0.5496 - accuracy: 0.9009 - val_loss: 0.5662 - val_accuracy: 0.8609\n",
            "Epoch 10/10\n",
            "391/391 [==============================] - 123s 315ms/step - loss: 0.5449 - accuracy: 0.9111 - val_loss: 0.5699 - val_accuracy: 0.8521\n"
          ],
          "name": "stdout"
        }
      ]
    },
    {
      "cell_type": "code",
      "metadata": {
        "id": "uca2BQpyhdJ6",
        "colab_type": "code",
        "colab": {}
      },
      "source": [
        "import matplotlib.pyplot as plt"
      ],
      "execution_count": 8,
      "outputs": []
    },
    {
      "cell_type": "code",
      "metadata": {
        "id": "6X9Pu_r2bnCc",
        "colab_type": "code",
        "colab": {}
      },
      "source": [
        "def graph(history):\n",
        "  plt.plot(history.history['accuracy'], 'r', label = 'training accuracy')\n",
        "  plt.plot(history.history['val_accuracy'], 'b', label = 'val_accuracy')\n",
        "  plt.xlabel('epoch')\n",
        "  plt.ylabel('accuracy')\n",
        "  plt.legend(loc=0)\n",
        "  plt.show()\n",
        "\n",
        "  plt.plot(history.history['loss'], 'g', label = 'training loss')\n",
        "  plt.plot(history.history['val_loss'], 'b', label = 'val_loss')\n",
        "  plt.xlabel('epoch')\n",
        "  plt.ylabel('loss')\n",
        "  plt.legend(loc= 0)\n",
        "  plt.show()"
      ],
      "execution_count": 9,
      "outputs": []
    },
    {
      "cell_type": "code",
      "metadata": {
        "id": "uawwzFeLhVkk",
        "colab_type": "code",
        "colab": {
          "base_uri": "https://localhost:8080/",
          "height": 541
        },
        "outputId": "75d6422c-3e40-490a-a7cb-d5ed1f65a3ae"
      },
      "source": [
        "graph(history)"
      ],
      "execution_count": 10,
      "outputs": [
        {
          "output_type": "display_data",
          "data": {
            "image/png": "[encoded data removed]",
            "text/plain": [
              "<Figure size 432x288 with 1 Axes>"
            ]
          },
          "metadata": {
            "tags": [],
            "needs_background": "light"
          }
        },
        {
          "output_type": "display_data",
          "data": {
            "image/png": "[encoded data removed]",
            "text/plain": [
              "<Figure size 432x288 with 1 Axes>"
            ]
          },
          "metadata": {
            "tags": [],
            "needs_background": "light"
          }
        }
      ]
    },
    {
      "cell_type": "code",
      "metadata": {
        "id": "HsyxiIWKhYvG",
        "colab_type": "code",
        "colab": {
          "base_uri": "https://localhost:8080/",
          "height": 67
        },
        "outputId": "e374fd67-72ec-4c60-f27b-fc1b39224d1b"
      },
      "source": [
        "testloss, testaccu = model.evaluate(test_data)\n",
        "print('test loss =' ,testloss, '\\n test accuracy = ', testaccu*100, '%')"
      ],
      "execution_count": 11,
      "outputs": [
        {
          "output_type": "stream",
          "text": [
            "391/391 [==============================] - 47s 121ms/step - loss: 0.5725 - accuracy: 0.8530\n",
            "test loss = 0.5724981427192688 \n",
            " test accuracy =  85.30399799346924 %\n"
          ],
          "name": "stdout"
        }
      ]
    },
    {
      "cell_type": "code",
      "metadata": {
        "id": "sgE_utj5Qhh_",
        "colab_type": "code",
        "colab": {
          "base_uri": "https://localhost:8080/",
          "height": 353
        },
        "outputId": "b9dc6564-5dfb-43ba-d427-5d4992cfc212"
      },
      "source": [
        "#stacking more lstm layers\n",
        "\n",
        "model1 = Sequential([layers.Embedding(encoder.vocab_size, 64),\n",
        "                    layers.Bidirectional(layers.LSTM(64, return_sequences= True)),\n",
        "                    layers.Bidirectional(layers.LSTM(64)),\n",
        "                    layers.Dense(64, activation = 'relu'),\n",
        "                    layers.Dropout(0.6),\n",
        "                    layers.Dense(1)\n",
        "])\n",
        "\n",
        "model1.compile(optimizer= tf.keras.optimizers.Adam(1e-4),\n",
        "              loss = tf.keras.losses.BinaryCrossentropy(from_logits = True),\n",
        "              metrics = ['accuracy'])\n",
        "\n",
        "model1.summary()"
      ],
      "execution_count": 12,
      "outputs": [
        {
          "output_type": "stream",
          "text": [
            "Model: \"sequential_1\"\n",
            "_________________________________________________________________\n",
            "Layer (type)                 Output Shape              Param #   \n",
            "=================================================================\n",
            "embedding_1 (Embedding)      (None, None, 64)          523840    \n",
            "_________________________________________________________________\n",
            "bidirectional_1 (Bidirection (None, None, 128)         66048     \n",
            "_________________________________________________________________\n",
            "bidirectional_2 (Bidirection (None, 128)               98816     \n",
            "_________________________________________________________________\n",
            "dense_2 (Dense)              (None, 64)                8256      \n",
            "_________________________________________________________________\n",
            "dropout (Dropout)            (None, 64)                0         \n",
            "_________________________________________________________________\n",
            "dense_3 (Dense)              (None, 1)                 65        \n",
            "=================================================================\n",
            "Total params: 697,025\n",
            "Trainable params: 697,025\n",
            "Non-trainable params: 0\n",
            "_________________________________________________________________\n"
          ],
          "name": "stdout"
        }
      ]
    },
    {
      "cell_type": "code",
      "metadata": {
        "id": "4V6JlJcPR26Y",
        "colab_type": "code",
        "colab": {
          "base_uri": "https://localhost:8080/",
          "height": 353
        },
        "outputId": "2534bddb-2a31-498c-e5c8-749d713c47d6"
      },
      "source": [
        "history = model1.fit(train_data,\n",
        "          epochs = 10,\n",
        "          validation_data= test_data,\n",
        "          validation_steps = 30)"
      ],
      "execution_count": 13,
      "outputs": [
        {
          "output_type": "stream",
          "text": [
            "Epoch 1/10\n",
            "391/391 [==============================] - 249s 636ms/step - loss: 0.6492 - accuracy: 0.5632 - val_loss: 0.4688 - val_accuracy: 0.7917\n",
            "Epoch 2/10\n",
            "391/391 [==============================] - 245s 626ms/step - loss: 0.3711 - accuracy: 0.8458 - val_loss: 0.3436 - val_accuracy: 0.8557\n",
            "Epoch 3/10\n",
            "391/391 [==============================] - 241s 617ms/step - loss: 0.2671 - accuracy: 0.9011 - val_loss: 0.3516 - val_accuracy: 0.8672\n",
            "Epoch 4/10\n",
            "391/391 [==============================] - 242s 618ms/step - loss: 0.2152 - accuracy: 0.9234 - val_loss: 0.3573 - val_accuracy: 0.8625\n",
            "Epoch 5/10\n",
            "391/391 [==============================] - 239s 611ms/step - loss: 0.1786 - accuracy: 0.9406 - val_loss: 0.4034 - val_accuracy: 0.8641\n",
            "Epoch 6/10\n",
            "391/391 [==============================] - 236s 604ms/step - loss: 0.1468 - accuracy: 0.9531 - val_loss: 0.4435 - val_accuracy: 0.8578\n",
            "Epoch 7/10\n",
            "391/391 [==============================] - 239s 612ms/step - loss: 0.1312 - accuracy: 0.9619 - val_loss: 0.4483 - val_accuracy: 0.8458\n",
            "Epoch 8/10\n",
            "391/391 [==============================] - 239s 611ms/step - loss: 0.1042 - accuracy: 0.9715 - val_loss: 0.4879 - val_accuracy: 0.8479\n",
            "Epoch 9/10\n",
            "391/391 [==============================] - 237s 607ms/step - loss: 0.0947 - accuracy: 0.9738 - val_loss: 0.5367 - val_accuracy: 0.8479\n",
            "Epoch 10/10\n",
            "391/391 [==============================] - 237s 607ms/step - loss: 0.0786 - accuracy: 0.9799 - val_loss: 0.5705 - val_accuracy: 0.8474\n"
          ],
          "name": "stdout"
        }
      ]
    },
    {
      "cell_type": "code",
      "metadata": {
        "id": "5Gt9SHjAW9O0",
        "colab_type": "code",
        "colab": {
          "base_uri": "https://localhost:8080/",
          "height": 545
        },
        "outputId": "76b42f0c-f9e1-4127-946f-65e1a7cb1442"
      },
      "source": [
        "graph(history)"
      ],
      "execution_count": 14,
      "outputs": [
        {
          "output_type": "display_data",
          "data": {
            "image/png": "[encoded data removed]",
            "text/plain": [
              "<Figure size 432x288 with 1 Axes>"
            ]
          },
          "metadata": {
            "tags": [],
            "needs_background": "light"
          }
        },
        {
          "output_type": "display_data",
          "data": {
            "image/png": "[encoded data removed]",
            "text/plain": [
              "<Figure size 432x288 with 1 Axes>"
            ]
          },
          "metadata": {
            "tags": [],
            "needs_background": "light"
          }
        }
      ]
    },
    {
      "cell_type": "code",
      "metadata": {
        "id": "EWY7YW62XABm",
        "colab_type": "code",
        "colab": {
          "base_uri": "https://localhost:8080/",
          "height": 67
        },
        "outputId": "5e983987-06a1-409f-b34e-045ae7d69499"
      },
      "source": [
        "testloss, testaccu = model1.evaluate(test_data)\n",
        "print('test loss =' ,testloss, '\\n test accuracy = ', testaccu*100, '%')"
      ],
      "execution_count": 15,
      "outputs": [
        {
          "output_type": "stream",
          "text": [
            "391/391 [==============================] - 90s 229ms/step - loss: 0.5738 - accuracy: 0.8433\n",
            "test loss = 0.5737757086753845 \n",
            " test accuracy =  84.33200120925903 %\n"
          ],
          "name": "stdout"
        }
      ]
    },
    {
      "cell_type": "code",
      "metadata": {
        "id": "a6_8mOEbXwoj",
        "colab_type": "code",
        "colab": {}
      },
      "source": [
        "\n",
        "\n",
        "def pad_to_size(vec, size):\n",
        "  zeros = [0] * (size - len(vec))\n",
        "  vec.extend(zeros)\n",
        "  return vec\n",
        "\n",
        "def sample_predict(sample_pred_text, pad= True):\n",
        "  encoded_sample_pred_text = encoder.encode(sample_pred_text)\n",
        "\n",
        "  if pad:\n",
        "    encoded_sample_pred_text = pad_to_size(encoded_sample_pred_text, 64)\n",
        "  encoded_sample_pred_text = tf.cast(encoded_sample_pred_text, tf.float32)\n",
        "  predictions = model.predict(tf.expand_dims(encoded_sample_pred_text, 0))\n",
        "\n",
        "  return (predictions)"
      ],
      "execution_count": 16,
      "outputs": []
    },
    {
      "cell_type": "code",
      "metadata": {
        "id": "8D8jWfa-YUd4",
        "colab_type": "code",
        "colab": {
          "base_uri": "https://localhost:8080/",
          "height": 34
        },
        "outputId": "9138319e-847f-4828-8497-68a272a12c9b"
      },
      "source": [
        "sample_ = ('The movie was not good. The animation and the graphics '\n",
        "                    'were terrible. I would not recommend this movie.')\n",
        "predictions = sample_predict(sample)\n",
        "print(predictions)"
      ],
      "execution_count": 17,
      "outputs": [
        {
          "output_type": "stream",
          "text": [
            "[[0.33562735]]\n"
          ],
          "name": "stdout"
        }
      ]
    },
    {
      "cell_type": "code",
      "metadata": {
        "id": "QltHKB_bZCYV",
        "colab_type": "code",
        "colab": {
          "base_uri": "https://localhost:8080/",
          "height": 34
        },
        "outputId": "b6c98590-c4b4-4cac-f9b0-e49831cb7649"
      },
      "source": [
        "sample_ = ('best')\n",
        "predictions = sample_predict(sample)\n",
        "print(predictions)"
      ],
      "execution_count": 18,
      "outputs": [
        {
          "output_type": "stream",
          "text": [
            "[[0.33562735]]\n"
          ],
          "name": "stdout"
        }
      ]
    }
  ]
}